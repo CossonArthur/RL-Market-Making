{
 "cells": [
  {
   "cell_type": "markdown",
   "metadata": {},
   "source": [
    "# Analysis\n",
    "Analysis the data and find features that can be used to predict the target variable."
   ]
  },
  {
   "cell_type": "code",
   "execution_count": 2,
   "metadata": {},
   "outputs": [
    {
     "data": {
      "text/html": [
       "        <script type=\"text/javascript\">\n",
       "        window.PlotlyConfig = {MathJaxConfig: 'local'};\n",
       "        if (window.MathJax && window.MathJax.Hub && window.MathJax.Hub.Config) {window.MathJax.Hub.Config({SVG: {font: \"STIX-Web\"}});}\n",
       "        if (typeof require !== 'undefined') {\n",
       "        require.undef(\"plotly\");\n",
       "        requirejs.config({\n",
       "            paths: {\n",
       "                'plotly': ['https://cdn.plot.ly/plotly-2.32.0.min']\n",
       "            }\n",
       "        });\n",
       "        require(['plotly'], function(Plotly) {\n",
       "            window._Plotly = Plotly;\n",
       "        });\n",
       "        }\n",
       "        </script>\n",
       "        "
      ]
     },
     "metadata": {},
     "output_type": "display_data"
    }
   ],
   "source": [
    "import lakeapi\n",
    "import datetime\n",
    "import numpy as np\n",
    "import pandas as pd\n",
    "import plotly.express as px\n",
    "from plotly.subplots import make_subplots\n",
    "import cufflinks\n",
    "\n",
    "from statsmodels.api import OLS\n",
    "\n",
    "lakeapi.use_sample_data(anonymous_access=True)\n",
    "cufflinks.go_offline()"
   ]
  },
  {
   "cell_type": "markdown",
   "metadata": {},
   "source": [
    "*Parameters*"
   ]
  },
  {
   "cell_type": "code",
   "execution_count": 3,
   "metadata": {},
   "outputs": [],
   "source": [
    "HORIZONS = np.linspace(1, 10000, 100)\n",
    "TRAIN_SIZE = 0.7"
   ]
  },
  {
   "cell_type": "markdown",
   "metadata": {},
   "source": [
    "## Initialisation\n",
    "Load the data from the input files, add some useful columns. Creation of the return at different horizons."
   ]
  },
  {
   "cell_type": "code",
   "execution_count": 4,
   "metadata": {},
   "outputs": [],
   "source": [
    "# Load data\n",
    "books = lakeapi.load_data(\n",
    "    table=\"book\",\n",
    "    start=datetime.datetime(2022, 10, 1),\n",
    "    end=datetime.datetime(2022, 10, 2),\n",
    "    symbols=[\"BTC-USDT\"],\n",
    "    exchanges=[\"BINANCE\"],\n",
    ")\n",
    "\n",
    "tick_val = books[\"received_time\"].diff().mean() / pd.Timedelta(seconds=1)  # seconds\n",
    "\n",
    "books[\"mid_price\"] = (books[\"ask_0_price\"] + books[\"bid_0_price\"]) / 2\n",
    "\n",
    "targets = pd.DataFrame()\n",
    "for x in HORIZONS:\n",
    "    targets[f\"target_{x}\"] = books[\"mid_price\"].diff(x) / books[\"mid_price\"]\n",
    "books = pd.concat([books, targets], axis=1)\n",
    "del targets\n",
    "\n",
    "#  split data in train and test\n",
    "books[\"set\"] = [\"train\"] * int(np.floor(TRAIN_SIZE * len(books))) + [\"test\"] * int(\n",
    "    np.ceil((1 - TRAIN_SIZE) * len(books))\n",
    ")"
   ]
  },
  {
   "cell_type": "markdown",
   "metadata": {},
   "source": [
    "## Features"
   ]
  },
  {
   "cell_type": "code",
   "execution_count": null,
   "metadata": {},
   "outputs": [],
   "source": [
    "def stat(y_col: str, X_col: list[str]):\n",
    "\n",
    "    def success_ratio(y, yhat):\n",
    "        return np.mean(np.sign(y) == np.sign(yhat))\n",
    "\n",
    "    data = books.dropna(\n",
    "        subset=X_col + [\"set\"] + [f\"target_{x}\" for x in HORIZONS], how=\"any\"\n",
    "    )\n",
    "\n",
    "    if len(X_col) == 1:\n",
    "        X_train = data.loc[data[\"set\"] == \"train\", X_col].values.reshape(-1, 1)\n",
    "        X_test = data.loc[data[\"set\"] == \"test\", X_col].values.reshape(-1, 1)\n",
    "\n",
    "    else:\n",
    "        X_train = data.loc[data[\"set\"] == \"train\", X_col].values\n",
    "        X_test = data.loc[data[\"set\"] == \"test\", X_col].values\n",
    "\n",
    "    y_train = data.loc[data[\"set\"] == \"train\", y_col].values\n",
    "    y_test = data.loc[data[\"set\"] == \"test\", y_col].values\n",
    "\n",
    "    model = OLS(y_train, X_train)\n",
    "    results = model.fit()\n",
    "\n",
    "    predictions = results.predict(X_test)\n",
    "\n",
    "    success = success_ratio(y_test, predictions)\n",
    "\n",
    "    return (\n",
    "        1\n",
    "        - np.sum((y_test - predictions) ** 2) / np.sum((y_test - np.mean(y_test)) ** 2),\n",
    "        success,\n",
    "    )"
   ]
  },
  {
   "cell_type": "markdown",
   "metadata": {},
   "source": [
    "### Book Imbalance\n",
    "The book imbalance is a feature that is often used in the literature to predict the price movement. The book imbalance is calculated as follows:\n",
    "\n",
    "$$\n",
    "\\text{Book Imbalance} = \\frac{\\text{Total Bids} - \\text{Total Asks}}{\\text{Total Bids} + \\text{Total Asks}}\n",
    "$$\n",
    "\n",
    "The value of the book imbalance is between -1 and 1.\n"
   ]
  },
  {
   "cell_type": "code",
   "execution_count": null,
   "metadata": {},
   "outputs": [],
   "source": [
    "# C\n",
    "asks_size = books.filter(regex=\"ask_[0-9]+_size\")\n",
    "bids_size = books.filter(regex=\"bid_[0-9]+_size\")\n",
    "\n",
    "bids_size = np.sum(bids_size, axis=1)\n",
    "asks_size = np.sum(asks_size, axis=1)\n",
    "\n",
    "books[\"imb\"] = (asks_size - bids_size) / (asks_size + bids_size)\n",
    "\n",
    "\n",
    "# sbooks[\"imb\"].rolling(30000).corr(books[\"target_100\"]).dropna().plot()\n",
    "\n",
    "\n",
    "R2 = []\n",
    "success_ratios = []\n",
    "\n",
    "for target in [f\"target_{x}\" for x in HORIZONS]:\n",
    "    r2, success = stat(target, [\"imb\"])\n",
    "    R2.append(r2)\n",
    "    success_ratios.append(success)\n",
    "\n",
    "\n",
    "fig = make_subplots(\n",
    "    rows=2,\n",
    "    cols=1,\n",
    "    subplot_titles=(\"R2\", \"Success Ratio\"),\n",
    ")\n",
    "fig.add_trace(\n",
    "    px.line(\n",
    "        x=[tick_val * horizon for horizon in HORIZONS],\n",
    "        y=R2,\n",
    "        title=\"Out of sample R2 vs Horizon\",\n",
    "        labels={\"x\": \"Horizon (s)\", \"y\": \"R2\"},\n",
    "    ).data[0],\n",
    "    row=1,\n",
    "    col=1,\n",
    ")\n",
    "fig.add_hline(\n",
    "    y=0,\n",
    "    line_dash=\"dot\",\n",
    "    row=1,\n",
    "    col=1,\n",
    ")\n",
    "fig.add_trace(\n",
    "    px.line(\n",
    "        x=[tick_val * horizon for horizon in HORIZONS][1:],\n",
    "        y=success_ratios[1:],\n",
    "        title=\"Out of sample Success Ratio vs Horizon\",\n",
    "        labels={\"x\": \"Horizon (s)\", \"y\": \"Success Ratio\"},\n",
    "    ).data[0],\n",
    "    row=2,\n",
    "    col=1,\n",
    ")\n",
    "fig.add_hline(\n",
    "    y=0.5,\n",
    "    line_dash=\"dot\",\n",
    "    row=2,\n",
    "    col=1,\n",
    ")\n",
    "fig.update_layout(showlegend=False, title_text=\"Book Imbalance\", template=\"plotly_dark\")\n"
   ]
  },
  {
   "cell_type": "markdown",
   "metadata": {},
   "source": [
    "### Spread\n",
    "The spread is the difference between the best ask price and the best bid price. The spread is a measure of the liquidity of the market. A low spread indicates that the market is liquid, while a high spread indicates that the market is illiquid.\n",
    "\n",
    "$$\n",
    "\\text{Spread} = \\text{Best Ask Price} - \\text{Best Bid Price}\n",
    "$$"
   ]
  },
  {
   "cell_type": "code",
   "execution_count": null,
   "metadata": {},
   "outputs": [],
   "source": [
    "books[\"spread\"] = books[\"ask_0_price\"] - books[\"bid_0_price\"]\n",
    "books[\"spread\"].iplot()"
   ]
  },
  {
   "cell_type": "markdown",
   "metadata": {},
   "source": [
    "### Volatility"
   ]
  },
  {
   "cell_type": "code",
   "execution_count": null,
   "metadata": {},
   "outputs": [],
   "source": [
    "books[\"volatility\"] = volatility(books[\"mid_price\"].values)"
   ]
  },
  {
   "cell_type": "markdown",
   "metadata": {},
   "source": [
    "### RSI (Relative Strength Index)\n",
    "The Relative Strength Index (RSI) is a momentum oscillator that measures the speed and change of price movements. The RSI oscillates between 0 and 100. Traditionally, and according to Wilder, RSI is considered overbought when above 70 and oversold when below 30.\n",
    "\n",
    "$$\n",
    "\\text{RSI} = 100 - \\frac{100}{1 + \\text{RS}}\n",
    "$$\n",
    "where RS is the EMA of the number of days the stock closes up divided by the number of days the stock closes down.\n",
    "$$\n",
    "\\text{RS} = \\frac{\\text{EMA}(n, \\text{Close Up})}{\\text{EMA}(n, \\text{Close Down})}\n",
    "$$\n"
   ]
  },
  {
   "cell_type": "code",
   "execution_count": null,
   "metadata": {},
   "outputs": [],
   "source": []
  }
 ],
 "metadata": {
  "kernelspec": {
   "display_name": ".venv",
   "language": "python",
   "name": "python3"
  },
  "language_info": {
   "codemirror_mode": {
    "name": "ipython",
    "version": 3
   },
   "file_extension": ".py",
   "mimetype": "text/x-python",
   "name": "python",
   "nbconvert_exporter": "python",
   "pygments_lexer": "ipython3",
   "version": "3.11.5"
  }
 },
 "nbformat": 4,
 "nbformat_minor": 2
}
